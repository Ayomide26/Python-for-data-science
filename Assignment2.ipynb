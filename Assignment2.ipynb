{
 "cells": [
  {
   "cell_type": "code",
   "execution_count": 6,
   "metadata": {},
   "outputs": [
    {
     "name": "stdout",
     "output_type": "stream",
     "text": [
      "Enter a number:2\n",
      "the square of the mumber is:  4\n"
     ]
    }
   ],
   "source": [
    "#Write a program to calculate the square of a number if the number is greater than zero\n",
    "number = int(input(\"Enter a number:\"))\n",
    "if number**2==0:\n",
    "    print (\"IT IS INVALID\")\n",
    "else:\n",
    "    print(\"the square of the mumber is: \",number**2)\n",
    "    \n"
   ]
  },
  {
   "cell_type": "code",
   "execution_count": 4,
   "metadata": {},
   "outputs": [
    {
     "name": "stdout",
     "output_type": "stream",
     "text": [
      "Welcome to our calculator\n",
      "Enter the first number:2\n",
      "Enter the second number:3\n",
      "Select operations.\n",
      "1.add\n",
      "2.subtraction\n",
      "3.multiplication\n",
      "4.division\n",
      "Enter choice 1/2/3/43\n",
      "2 * 3 = 6\n"
     ]
    }
   ],
   "source": [
    "#Reproduce this calculator output:\n",
    "def add(x,y):\n",
    "     return x + y\n",
    "def substract(x,y):\n",
    "    return x - y\n",
    "def multiplication(x,y):\n",
    "     return x * y\n",
    "def division(x,y):\n",
    "     return x / y\n",
    "print(\"Welcome to our calculator\")\n",
    "num1 = int(input(\"Enter the first number:\"))\n",
    "num2 = int(input(\"Enter the second number:\"))\n",
    "print(\"Select operations.\")\n",
    "print(\"1.add\")\n",
    "print(\"2.subtraction\")\n",
    "print(\"3.multiplication\")\n",
    "print(\"4.division\")\n",
    "choice = input(\"Enter choice 1/2/3/4\")\n",
    "if choice == '1':\n",
    "    print(num1, \"+\", num2, \"=\", add(num1,num2))\n",
    "elif choice == '2':\n",
    "    print(num1, \"-\", num2, \"=\", subtration(num1,num2))\n",
    "elif choice == '3':\n",
    "    print(num1, \"*\", num2, \"=\", multiplication(num1,num2))\n",
    "elif choice == '4':\n",
    "    print(num1, \"/\", num2, \"=\", division(num1,num2))\n",
    "else:\n",
    "    print(\"Thanks for using our calculator\")\n",
    "    "
   ]
  },
  {
   "cell_type": "code",
   "execution_count": 1,
   "metadata": {},
   "outputs": [
    {
     "name": "stdout",
     "output_type": "stream",
     "text": [
      "Welcome to our calculator\n",
      "Enter the first number:1\n",
      "Enter the second number:2\n",
      "Select operations.\n",
      "1.add\n",
      "2.subtraction\n",
      "3.multiplication\n",
      "4.division\n",
      "Enter choice 1/2/3/41\n",
      "1 + 2 = 3\n"
     ]
    }
   ],
   "source": [
    "#Reproduce this calculator output:\n",
    "def add(x,y):\n",
    "     return x + y\n",
    "def substract(x,y):\n",
    "    return x - y\n",
    "def multiplication(x,y):\n",
    "     return x * y\n",
    "def division(x,y):\n",
    "     return x / y\n",
    "print(\"Welcome to our calculator\")\n",
    "num1 = int(input(\"Enter the first number:\"))\n",
    "num2 = int(input(\"Enter the second number:\"))\n",
    "print(\"Select operations.\")\n",
    "print(\"1.add\")\n",
    "print(\"2.subtraction\")\n",
    "print(\"3.multiplication\")\n",
    "print(\"4.division\")\n",
    "choice = input(\"Enter choice 1/2/3/4\")\n",
    "if choice == '1':\n",
    "    print(num1, \"+\", num2, \"=\", add(num1,num2))\n",
    "elif choice == '2':\n",
    "    print(num1, \"-\", num2, \"=\", subtration(num1,num2))\n",
    "elif choice == '3':\n",
    "    print(num1, \"*\", num2, \"=\", multiplication(num1,num2))\n",
    "elif choice == '4':\n",
    "    print(num1, \"/\", num2, \"=\", division(num1,num2))\n",
    "else:\n",
    "    print(\"Thanks for using our calculator\")\n",
    "    "
   ]
  },
  {
   "cell_type": "code",
   "execution_count": 1,
   "metadata": {},
   "outputs": [
    {
     "name": "stdout",
     "output_type": "stream",
     "text": [
      "Enter the number:5\n",
      "5 * 1 = 5\n",
      "5 * 2 = 10\n",
      "5 * 3 = 15\n",
      "5 * 4 = 20\n",
      "5 * 5 = 25\n",
      "5 * 6 = 30\n",
      "5 * 7 = 35\n",
      "5 * 8 = 40\n",
      "5 * 9 = 45\n",
      "5 * 10 = 50\n",
      "5 * 11 = 55\n",
      "5 * 12 = 60\n",
      "5 * 13 = 65\n",
      "5 * 14 = 70\n",
      "5 * 15 = 75\n",
      "5 * 16 = 80\n",
      "5 * 17 = 85\n",
      "5 * 18 = 90\n",
      "5 * 19 = 95\n",
      "5 * 20 = 100\n"
     ]
    }
   ],
   "source": [
    "#Implement the Multiplication table 5 above using FOR Statement\n",
    "n =int(input(\"Enter the number:\"))\n",
    "for i in range(1,21):\n",
    "    print(n, \"*\",i,\"=\",n*i)"
   ]
  },
  {
   "cell_type": "code",
   "execution_count": 10,
   "metadata": {},
   "outputs": [
    {
     "name": "stdout",
     "output_type": "stream",
     "text": [
      "0\n",
      "1\n",
      "2\n",
      "3\n",
      "4\n",
      "5\n"
     ]
    }
   ],
   "source": [
    "#Write a program that prints all the numbers from 0 to 6 except 3 and 6 \n",
    "for i in range(0, 6, 1):\n",
    "  print(i)\n",
    "\n",
    "\n"
   ]
  },
  {
   "cell_type": "code",
   "execution_count": 4,
   "metadata": {},
   "outputs": [
    {
     "name": "stdout",
     "output_type": "stream",
     "text": [
      "The sum of all the numbers are: 38\n"
     ]
    }
   ],
   "source": [
    "#SUM OF NUMBERS\n",
    "\n",
    "numbers = [5, 8, 15, 7, 3]\n",
    "numbers_sum = sum(numbers) #using a SUM Function on the List\n",
    "print(\"The sum of all the numbers are:\",numbers_sum)\n",
    "\n"
   ]
  },
  {
   "cell_type": "code",
   "execution_count": 2,
   "metadata": {},
   "outputs": [
    {
     "name": "stdout",
     "output_type": "stream",
     "text": [
      "['AYO', 'April', 'August', 'February', 'January', 'July', 'June', 'March', 'May', 'November', 'October', 'September']\n",
      "['AYO', 'April', 'August', 'February', 'January', 'July', 'June', 'March', 'May', 'November', 'October', 'September', 'December']\n",
      "['April', 'August', 'February', 'January', 'July', 'June', 'March', 'May', 'November', 'October', 'September', 'December']\n"
     ]
    }
   ],
   "source": [
    "#Months = ['January', 'February', 'AYO', 'March', 'April', 'May', 'June', 'July','August', 'September', 'October', 'November']\n",
    "\n",
    "#Write a Python program to Get Months sorted in ascending order Add 'December' to months remove/delete 'AYO' from months\n",
    "\n",
    "my_list =['January', 'February', 'AYO', 'March','April' ,'May', 'June', 'July', 'August', 'September', 'October', 'November']\n",
    "my_list.sort()\n",
    "print(my_list)\n",
    "my_list.append('December')\n",
    "print(my_list)\n",
    "my_list.remove('AYO')\n",
    "print(my_list)\n"
   ]
  },
  {
   "cell_type": "code",
   "execution_count": null,
   "metadata": {},
   "outputs": [],
   "source": []
  }
 ],
 "metadata": {
  "kernelspec": {
   "display_name": "Python 3",
   "language": "python",
   "name": "python3"
  },
  "language_info": {
   "codemirror_mode": {
    "name": "ipython",
    "version": 3
   },
   "file_extension": ".py",
   "mimetype": "text/x-python",
   "name": "python",
   "nbconvert_exporter": "python",
   "pygments_lexer": "ipython3",
   "version": "3.7.6"
  }
 },
 "nbformat": 4,
 "nbformat_minor": 4
}
