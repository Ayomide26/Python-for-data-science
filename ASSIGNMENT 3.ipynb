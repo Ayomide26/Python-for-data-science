{
 "cells": [
  {
   "cell_type": "code",
   "execution_count": 2,
   "metadata": {},
   "outputs": [
    {
     "name": "stdout",
     "output_type": "stream",
     "text": [
      "What is your surname:fadare\n",
      "What is your other names:victoria ayomide\n",
      "Your fullname is:\n"
     ]
    }
   ],
   "source": [
    "#Create a function that accepts your Surname and other names and output your full name\n",
    "def full_name():\n",
    "    surname= str(input('What is your surname:'))\n",
    "    othername = str(input('What is your other names:'))\n",
    "    print('Your fullname is:'.format(surname,othername))\n",
    "    \n",
    "full_name()\n",
    "\n",
    "    \n",
    "    \n",
    "#Function call"
   ]
  },
  {
   "cell_type": "code",
   "execution_count": 9,
   "metadata": {},
   "outputs": [
    {
     "name": "stdout",
     "output_type": "stream",
     "text": [
      "The family age Father is 50 \n",
      "The family age Mother is 45 \n",
      "The family age Daughter is 25 \n",
      "The family age Son is 20 \n"
     ]
    }
   ],
   "source": [
    "#Assignment 2\n",
    "#Create a function named Family and pass the dictionary below:\n",
    "\n",
    "def Family_Age_func(families):\n",
    "    for family,Age in families.items():\n",
    "    \n",
    "        print(\"The family age {0} is {1} \".format(family,Age ))\n",
    "\n",
    "    \n",
    "Family_Age = {\"Father\": 50, \"Mother\": 45, \"Daughter\": 25, \"Son\":20}\n",
    "\n",
    "\n",
    "Family_Age_func(Family_Age)\n",
    "\n"
   ]
  },
  {
   "cell_type": "code",
   "execution_count": null,
   "metadata": {},
   "outputs": [],
   "source": []
  },
  {
   "cell_type": "code",
   "execution_count": null,
   "metadata": {},
   "outputs": [],
   "source": []
  }
 ],
 "metadata": {
  "kernelspec": {
   "display_name": "Python 3",
   "language": "python",
   "name": "python3"
  },
  "language_info": {
   "codemirror_mode": {
    "name": "ipython",
    "version": 3
   },
   "file_extension": ".py",
   "mimetype": "text/x-python",
   "name": "python",
   "nbconvert_exporter": "python",
   "pygments_lexer": "ipython3",
   "version": "3.7.6"
  }
 },
 "nbformat": 4,
 "nbformat_minor": 4
}
