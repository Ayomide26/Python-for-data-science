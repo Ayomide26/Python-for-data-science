{
 "cells": [
  {
   "cell_type": "code",
   "execution_count": 1,
   "metadata": {},
   "outputs": [
    {
     "name": "stdout",
     "output_type": "stream",
     "text": [
      "Enter the principal amount:230.5\n",
      "Enter the rate:4\n",
      "Enter the time(years):2.5\n",
      "The simple interest is: 23.05\n"
     ]
    }
   ],
   "source": [
    "#Write a program to calculate simple interest, with the user specifying the principal, rate, and time.\n",
    "#Simple interest =(Principal*Rate*Time/100)\n",
    "Principal=float(input(\"Enter the principal amount:\"))\n",
    "Rate=int(input(\"Enter the rate:\"))\n",
    "Time=float(input(\"Enter the time(years):\"))\n",
    "Simple_interest =(Principal*Rate*Time)/100\n",
    "print(\"The simple interest is:\",Simple_interest)\n",
    "\n"
   ]
  },
  {
   "cell_type": "code",
   "execution_count": 3,
   "metadata": {},
   "outputs": [
    {
     "name": "stdout",
     "output_type": "stream",
     "text": [
      "Enter anumber:3\n",
      "3  is an odd number\n"
     ]
    }
   ],
   "source": [
    "number = int(input(\"Enter anumber:\"))\n",
    "if number%2 ==0:\n",
    "    print(number,\" is an even number\")\n",
    "else:\n",
    "    print(number,\" is an odd number\")\n",
    "\n",
    "    \n",
    "\n",
    "    "
   ]
  }
 ],
 "metadata": {
  "kernelspec": {
   "display_name": "Python 3",
   "language": "python",
   "name": "python3"
  },
  "language_info": {
   "codemirror_mode": {
    "name": "ipython",
    "version": 3
   },
   "file_extension": ".py",
   "mimetype": "text/x-python",
   "name": "python",
   "nbconvert_exporter": "python",
   "pygments_lexer": "ipython3",
   "version": "3.7.6"
  }
 },
 "nbformat": 4,
 "nbformat_minor": 4
}
