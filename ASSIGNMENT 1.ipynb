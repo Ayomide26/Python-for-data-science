{
 "cells": [
  {
   "cell_type": "code",
   "execution_count": null,
   "metadata": {},
   "outputs": [],
   "source": [
    "CLASS WORK 1"
   ]
  },
  {
   "cell_type": "code",
   "execution_count": 6,
   "metadata": {},
   "outputs": [
    {
     "data": {
      "text/plain": [
       "90"
      ]
     },
     "execution_count": 6,
     "metadata": {},
     "output_type": "execute_result"
    }
   ],
   "source": [
    "2*45"
   ]
  },
  {
   "cell_type": "code",
   "execution_count": 7,
   "metadata": {},
   "outputs": [
    {
     "data": {
      "text/plain": [
       "1"
      ]
     },
     "execution_count": 7,
     "metadata": {},
     "output_type": "execute_result"
    }
   ],
   "source": [
    "5%2"
   ]
  },
  {
   "cell_type": "code",
   "execution_count": 8,
   "metadata": {},
   "outputs": [
    {
     "data": {
      "text/plain": [
       "20"
      ]
     },
     "execution_count": 8,
     "metadata": {},
     "output_type": "execute_result"
    }
   ],
   "source": [
    "(6*3)+2"
   ]
  },
  {
   "cell_type": "code",
   "execution_count": 9,
   "metadata": {},
   "outputs": [
    {
     "data": {
      "text/plain": [
       "5.5"
      ]
     },
     "execution_count": 9,
     "metadata": {},
     "output_type": "execute_result"
    }
   ],
   "source": [
    "55/10"
   ]
  },
  {
   "cell_type": "code",
   "execution_count": null,
   "metadata": {},
   "outputs": [],
   "source": [
    "CLASS WORK 2\n",
    "STRINGS METHODS"
   ]
  },
  {
   "cell_type": "code",
   "execution_count": 13,
   "metadata": {},
   "outputs": [
    {
     "name": "stdout",
     "output_type": "stream",
     "text": [
      "========LOVE========\n"
     ]
    }
   ],
   "source": [
    "#Center Method ( center(width[, fillchar]))\n",
    "a = \"LOVE\" \n",
    "d = a.center(20, \"=\")\n",
    "print(d)\n"
   ]
  },
  {
   "cell_type": "code",
   "execution_count": 14,
   "metadata": {},
   "outputs": [
    {
     "name": "stdout",
     "output_type": "stream",
     "text": [
      "victoria\n"
     ]
    }
   ],
   "source": [
    "#casefold method\n",
    "a = \"VICTORIA\"\n",
    "print(a.casefold())"
   ]
  },
  {
   "cell_type": "code",
   "execution_count": 20,
   "metadata": {
    "scrolled": true
   },
   "outputs": [
    {
     "name": "stdout",
     "output_type": "stream",
     "text": [
      "0\n",
      "2\n",
      "1\n",
      "2\n",
      "0\n"
     ]
    }
   ],
   "source": [
    "# Count method i.e count(sub[, start[, end]])\n",
    "a = \"bushroom girl\" \n",
    "print(a.count(\"O\"))\n",
    "print(a.count(\"o\"))\n",
    "print(a.count(\"oo\"))\n",
    "print(a.count(\"o\", 4, 7))\n",
    "print(a.count(\"o\", 7))\n",
    "\n"
   ]
  },
  {
   "cell_type": "code",
   "execution_count": 21,
   "metadata": {},
   "outputs": [
    {
     "name": "stdout",
     "output_type": "stream",
     "text": [
      "False\n",
      "True\n",
      "False\n",
      "False\n"
     ]
    }
   ],
   "source": [
    "#Returns True if the string ends with the specified suffix, otherwise it returns False i.e endswith(suffix[, start[, end]])\t\n",
    "a = \"Basketball\"\n",
    "print(a.endswith(\"a\"))\n",
    "print(a.endswith(\"ball\"))\n",
    "print(a.endswith(\"s\"))\n",
    "print(a.endswith(\"ket\", 1, 3))"
   ]
  },
  {
   "cell_type": "code",
   "execution_count": 27,
   "metadata": {
    "scrolled": true
   },
   "outputs": [
    {
     "name": "stdout",
     "output_type": "stream",
     "text": [
      "carpower: Toyota, Primera\n"
     ]
    }
   ],
   "source": [
    "#Format_map(mapping) method\n",
    "carpower = {\"Car\": \"Toyota\", \"Model\": \"Primera\"}\n",
    "print(\"carpower: {Car}, {Model}\".format_map(carpower))"
   ]
  },
  {
   "cell_type": "code",
   "execution_count": null,
   "metadata": {},
   "outputs": [],
   "source": [
    "\n",
    "Write a program to convert the following degrees in Celsius to Fahrenheit\n",
    "50\n",
    "100\n",
    "0\n",
    "25\n",
    "Write a program to calculate simple interest, with the user specifying the principal, rate, and time.\n",
    "Write a program to check if a user defined year is leap year or not\n",
    "Write a program to check if a user defined number is odd or even\n",
    "Hints:\n",
    "\n",
    "𝐹𝑎ℎ𝑟𝑒𝑛ℎ𝑒𝑖𝑡=9/5𝐶+32\n",
    "𝐶𝑒𝑙𝑠𝑖𝑢𝑠=5/9(𝐹−32)\n",
    "𝑆𝑖𝑚𝑝𝑙𝑒𝑖𝑛𝑡𝑒𝑟𝑒𝑠𝑡=𝑃𝑅𝑇/100\n",
    "𝐿𝑒𝑎𝑝𝑦𝑒𝑎𝑟=366𝑑𝑎𝑦𝑠\n"
   ]
  },
  {
   "cell_type": "code",
   "execution_count": 33,
   "metadata": {},
   "outputs": [
    {
     "name": "stdout",
     "output_type": "stream",
     "text": [
      "Enter the temperature in celsuis:0\n",
      "Temperature in fahreheit is: 32.0\n"
     ]
    }
   ],
   "source": [
    "# DEGREE CELSUIS TO FAHREHEIT,from 9/5=1.8\n",
    "Celsuis =int(input(\"Enter the temperature in celsuis:\"))\n",
    "f =(Celsuis*1.8 +32)\n",
    "print(\"Temperature in fahreheit is:\",f)"
   ]
  },
  {
   "cell_type": "code",
   "execution_count": 32,
   "metadata": {},
   "outputs": [
    {
     "name": "stdout",
     "output_type": "stream",
     "text": [
      "Enter the temperature in celsuis:50\n",
      "Temperature in fahreheit is: 122.0\n"
     ]
    }
   ],
   "source": [
    "# DEGREE CELSUIS TO FAHREHEIT,from 9/5=1.8\n",
    "Celsuis =int(input(\"Enter the temperature in celsuis:\"))\n",
    "f =(Celsuis*1.8 +32)\n",
    "print(\"Temperature in fahreheit is:\",f)"
   ]
  },
  {
   "cell_type": "code",
   "execution_count": 35,
   "metadata": {},
   "outputs": [
    {
     "name": "stdout",
     "output_type": "stream",
     "text": [
      "Enter the temperature in celsuis:100\n",
      "Temperature in fahreheit is: 212.0\n"
     ]
    }
   ],
   "source": [
    "# DEGREE CELSUIS TO FAHREHEIT,from 9/5=1a.8\n",
    "Celsuis =int(input(\"Enter the temperature in celsuis:\"))\n",
    "f =(Celsuis*1.8 +32)\n",
    "print(\"Temperature in fahreheit is:\",f)"
   ]
  },
  {
   "cell_type": "code",
   "execution_count": 36,
   "metadata": {},
   "outputs": [
    {
     "name": "stdout",
     "output_type": "stream",
     "text": [
      "Enter the temperature in celsuis:25\n",
      "Temperature in fahreheit is: 77.0\n"
     ]
    }
   ],
   "source": [
    "# DEGREE CELSUIS TO FAHREHEIT,from 9/5=1a.8\n",
    "Celsuis =int(input(\"Enter the temperature in celsuis:\"))\n",
    "f =(Celsuis*1.8 +32)\n",
    "print(\"Temperature in fahreheit is:\",f)"
   ]
  }
 ],
 "metadata": {
  "kernelspec": {
   "display_name": "Python 3",
   "language": "python",
   "name": "python3"
  },
  "language_info": {
   "codemirror_mode": {
    "name": "ipython",
    "version": 3
   },
   "file_extension": ".py",
   "mimetype": "text/x-python",
   "name": "python",
   "nbconvert_exporter": "python",
   "pygments_lexer": "ipython3",
   "version": "3.7.6"
  }
 },
 "nbformat": 4,
 "nbformat_minor": 4
}
